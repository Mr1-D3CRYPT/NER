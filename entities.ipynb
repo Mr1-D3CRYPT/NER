{
 "cells": [
  {
   "cell_type": "code",
   "execution_count": 1,
   "id": "b35fae7f-b51a-479a-95c3-3ed3346227bd",
   "metadata": {},
   "outputs": [],
   "source": [
    "# Rule based - NLTK"
   ]
  },
  {
   "cell_type": "code",
   "execution_count": 2,
   "id": "f72e1735-6471-4933-ad4c-29eddc592fd0",
   "metadata": {},
   "outputs": [],
   "source": [
    "import requests\n",
    "import nltk\n",
    "from nltk import word_tokenize, pos_tag\n",
    "from nltk.chunk import RegexpParser"
   ]
  },
  {
   "cell_type": "code",
   "execution_count": 24,
   "id": "8ad57289-5982-4ebf-a588-204555f11823",
   "metadata": {},
   "outputs": [
    {
     "name": "stderr",
     "output_type": "stream",
     "text": [
      "[nltk_data] Downloading package punkt to\n",
      "[nltk_data]     C:\\Users\\ashis\\AppData\\Roaming\\nltk_data...\n",
      "[nltk_data]   Package punkt is already up-to-date!\n",
      "[nltk_data] Downloading package maxent_ne_chunker to\n",
      "[nltk_data]     C:\\Users\\ashis\\AppData\\Roaming\\nltk_data...\n",
      "[nltk_data]   Package maxent_ne_chunker is already up-to-date!\n",
      "[nltk_data] Downloading package words to\n",
      "[nltk_data]     C:\\Users\\ashis\\AppData\\Roaming\\nltk_data...\n",
      "[nltk_data]   Package words is already up-to-date!\n"
     ]
    },
    {
     "data": {
      "text/plain": [
       "True"
      ]
     },
     "execution_count": 24,
     "metadata": {},
     "output_type": "execute_result"
    }
   ],
   "source": [
    "# Load NLTK data\n",
    "nltk.download('punkt')\n",
    "nltk.download('maxent_ne_chunker')\n",
    "nltk.download('words')"
   ]
  },
  {
   "cell_type": "code",
   "execution_count": 34,
   "id": "451fec37-5f82-4d8a-aaf6-e1537654938a",
   "metadata": {},
   "outputs": [],
   "source": [
    "api_url = \"https://newsapi.org/v2/everything?q=apple&from=2024-08-03&to=2024-08-04&sortBy=popularity&apiKey=7c75568f1c764c1a99df62b1bdd8f278\"\n",
    "api_key = \"7c75568f1c764c1a99df62b1bdd8f278\"  "
   ]
  },
  {
   "cell_type": "code",
   "execution_count": 35,
   "id": "21203bfd-5c38-4ea3-96b0-f07811f713a5",
   "metadata": {},
   "outputs": [],
   "source": [
    "# Fetch the news article\n",
    "response = requests.get(api_url, api_key)\n",
    "data = response.json()"
   ]
  },
  {
   "cell_type": "code",
   "execution_count": 37,
   "id": "a8794f4e-3737-4338-b577-9f98cbf7d747",
   "metadata": {},
   "outputs": [
    {
     "name": "stdout",
     "output_type": "stream",
     "text": [
      "Fetched Article:\n",
      "Google's Pixel Watch 3 is becoming official on August 13, and for the first time in the series it will come in two sizes: 41mm and 45mm.\n",
      "\n",
      "Today the pricing for all versions has been leaked. The 41mm Wi-Fi and Bluetooth Pixel Watch 3 will be $349, while the 45…\n",
      "\n"
     ]
    }
   ],
   "source": [
    "# Assuming the article content is in the 'content' field of the first article\n",
    "article = data['articles'][0]['description']\n",
    "print(f\"Fetched Article:\\n{article}\\n\")"
   ]
  },
  {
   "cell_type": "code",
   "execution_count": 38,
   "id": "f18b77e8-4e9b-47a7-854b-f94961ee752e",
   "metadata": {},
   "outputs": [],
   "source": [
    "# Tokenize the text into sentences\n",
    "sentences = nltk.sent_tokenize(article)\n",
    "\n",
    "# Tokenize each sentence into words\n",
    "tokenized_sentences = [nltk.word_tokenize(sentence) for sentence in sentences]\n",
    "\n",
    "# Part-of-Speech (POS) tagging for each tokenized sentence\n",
    "pos_tagged_sentences = [nltk.pos_tag(sentence) for sentence in tokenized_sentences]"
   ]
  },
  {
   "cell_type": "code",
   "execution_count": 40,
   "id": "63b9f889-1f36-46c6-8dcf-6e728d04e994",
   "metadata": {},
   "outputs": [],
   "source": [
    "# Define the chunking pattern\n",
    "chunk_pattern = r\"\"\"\n",
    "    NE: {<NNP>+}\n",
    "\"\"\"\n",
    "\n",
    "# Initialize the chunk parser\n",
    "chunk_parser = RegexpParser(chunk_pattern)\n",
    "\n",
    "# List to store named entities\n",
    "named_entities = []"
   ]
  },
  {
   "cell_type": "code",
   "execution_count": 41,
   "id": "f70906dd-dc82-4f0a-af48-68b8e48f2fd4",
   "metadata": {},
   "outputs": [],
   "source": [
    "# Chunk and extract named entities from each POS tagged sentence\n",
    "for sentence in pos_tagged_sentences:\n",
    "    tree = chunk_parser.parse(sentence)\n",
    "    for subtree in tree:\n",
    "        if isinstance(subtree, nltk.Tree) and subtree.label() == 'NE':\n",
    "            entity = \" \".join([token for token, pos in subtree.leaves()])\n",
    "            named_entities.append(entity)"
   ]
  },
  {
   "cell_type": "code",
   "execution_count": 42,
   "id": "811ae128-ff3b-42f5-86cb-1d8afc819eec",
   "metadata": {},
   "outputs": [
    {
     "name": "stdout",
     "output_type": "stream",
     "text": [
      "Extracted Named Entities:\n",
      "Entity: Google\n",
      "Entity: Pixel Watch\n",
      "Entity: August\n",
      "Entity: Bluetooth Pixel Watch\n"
     ]
    }
   ],
   "source": [
    "# Print the extracted named entities\n",
    "print(\"Extracted Named Entities:\")\n",
    "for entity in named_entities:\n",
    "    print(f\"Entity: {entity}\")"
   ]
  },
  {
   "cell_type": "code",
   "execution_count": null,
   "id": "46829c6d-af9e-4d04-9e30-79d2df5da71a",
   "metadata": {},
   "outputs": [],
   "source": []
  },
  {
   "cell_type": "code",
   "execution_count": null,
   "id": "070ba6b2-5366-4e48-923e-5886df2780c0",
   "metadata": {},
   "outputs": [],
   "source": []
  },
  {
   "cell_type": "code",
   "execution_count": 23,
   "id": "d65e40ff-be73-48ae-b44d-eb5eb272ce01",
   "metadata": {},
   "outputs": [],
   "source": [
    "# ML based - Spacy"
   ]
  },
  {
   "cell_type": "code",
   "execution_count": 43,
   "id": "cee0283d-5d04-4801-a8c0-31cf47766659",
   "metadata": {},
   "outputs": [],
   "source": [
    "import requests\n",
    "import spacy\n",
    "\n",
    "# Load SpaCy's pre-trained model\n",
    "nlp = spacy.load(\"en_core_web_sm\")"
   ]
  },
  {
   "cell_type": "code",
   "execution_count": 44,
   "id": "3c613a27-e536-424f-ba12-b833c7cefc07",
   "metadata": {},
   "outputs": [],
   "source": [
    "api_url = \"https://newsapi.org/v2/everything?q=apple&from=2024-08-03&to=2024-08-04&sortBy=popularity&apiKey=7c75568f1c764c1a99df62b1bdd8f278\"\n",
    "api_key = \"7c75568f1c764c1a99df62b1bdd8f278\"  \n",
    "\n",
    "# Fetch the news article\n",
    "response = requests.get(api_url, api_key)\n",
    "data = response.json()"
   ]
  },
  {
   "cell_type": "code",
   "execution_count": 45,
   "id": "5897b568-197b-44d2-8687-17b0d9ede451",
   "metadata": {},
   "outputs": [
    {
     "name": "stdout",
     "output_type": "stream",
     "text": [
      "Fetched Article:\n",
      "Google's Pixel Watch 3 is becoming official on August 13, and for the first time in the series it will come in two sizes: 41mm and 45mm.\n",
      "Today the pricing for all versions has been leaked. The 41mm … [+938 chars]\n",
      "\n"
     ]
    }
   ],
   "source": [
    "# Directly access the content, description, or title of the first article\n",
    "article = data['articles'][0]['content'] or data['articles'][0]['description'] or data['articles'][0]['title']\n",
    "print(f\"Fetched Article:\\n{article}\\n\")"
   ]
  },
  {
   "cell_type": "code",
   "execution_count": 46,
   "id": "96ca4151-5d9a-4219-98a9-be52fd9ca35f",
   "metadata": {},
   "outputs": [
    {
     "name": "stdout",
     "output_type": "stream",
     "text": [
      "Extracted Named Entities:\n",
      "Entity: Google, Type: ORG\n",
      "Entity: 3, Type: CARDINAL\n",
      "Entity: August 13, Type: DATE\n",
      "Entity: first, Type: ORDINAL\n",
      "Entity: two, Type: CARDINAL\n",
      "Entity: 41mm and, Type: QUANTITY\n",
      "Entity: 45mm, Type: QUANTITY\n",
      "Entity: Today, Type: DATE\n",
      "Entity: 41mm, Type: QUANTITY\n"
     ]
    }
   ],
   "source": [
    "# Process the text with SpaCy\n",
    "doc = nlp(article)\n",
    "\n",
    "# Extract and print named entities\n",
    "print(\"Extracted Named Entities:\")\n",
    "for entity in doc.ents:\n",
    "    print(f\"Entity: {entity.text}, Type: {entity.label_}\")"
   ]
  }
 ],
 "metadata": {
  "kernelspec": {
   "display_name": "Python 3 (ipykernel)",
   "language": "python",
   "name": "python3"
  },
  "language_info": {
   "codemirror_mode": {
    "name": "ipython",
    "version": 3
   },
   "file_extension": ".py",
   "mimetype": "text/x-python",
   "name": "python",
   "nbconvert_exporter": "python",
   "pygments_lexer": "ipython3",
   "version": "3.12.2"
  }
 },
 "nbformat": 4,
 "nbformat_minor": 5
}
